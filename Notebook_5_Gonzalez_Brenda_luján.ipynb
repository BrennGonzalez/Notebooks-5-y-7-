{
  "nbformat": 4,
  "nbformat_minor": 0,
  "metadata": {
    "kernelspec": {
      "display_name": "Python 3",
      "language": "python",
      "name": "python3"
    },
    "language_info": {
      "codemirror_mode": {
        "name": "ipython",
        "version": 3
      },
      "file_extension": ".py",
      "mimetype": "text/x-python",
      "name": "python",
      "nbconvert_exporter": "python",
      "pygments_lexer": "ipython3",
      "version": "3.7.3"
    },
    "colab": {
      "provenance": []
    }
  },
  "cells": [
    {
      "cell_type": "markdown",
      "metadata": {
        "id": "Gp2WddtV9IwG"
      },
      "source": [
        "# Programa Ingenias+ Data Science"
      ]
    },
    {
      "cell_type": "markdown",
      "metadata": {
        "id": "H4M1yVbf9IwH"
      },
      "source": [
        "Como dijimos en clases anteriores, Python tiene implementadas muchas librerias para poder trabajar con datos. En la clase de hoy trabajaremos con una de ellas: `Numpy`."
      ]
    },
    {
      "cell_type": "markdown",
      "metadata": {
        "id": "GdTT8WeL9IwI"
      },
      "source": [
        "Antes de comenzar, vamos a hablar un poco de esta libreria o modulo.\n",
        "\n",
        "**Numpy** es una librería optimizada para realizar cálculos numéricos con vectores y matrices. A diferencia de otros lenguajes de programación, Python no posee en su estructura central la figura de matrices. Eso quiere decir que para poder trabajar con esta estructura de datos deberiamos trabajar con listas de listas. NumPy introduce el concepto de arrays o matrices."
      ]
    },
    {
      "cell_type": "markdown",
      "metadata": {
        "id": "qWkq3EHK9IwK"
      },
      "source": [
        "Al ser de código abierto, `numpy` posee una documentación muy amplia que es **SIEMPRE RECOMENDABLE** consultar."
      ]
    },
    {
      "cell_type": "markdown",
      "metadata": {
        "id": "nxe3KLUO9IwL"
      },
      "source": [
        "- [Documentacion NumPy](https://devdocs.io/numpy/)"
      ]
    },
    {
      "cell_type": "markdown",
      "metadata": {
        "id": "l1Ay3nSs9IwN"
      },
      "source": [
        "## Clase 4: Introduccion a NumPy"
      ]
    },
    {
      "cell_type": "markdown",
      "metadata": {
        "id": "X03mviQS9IyL"
      },
      "source": [
        "# Ejercicios\n",
        "\n",
        "1. Crear un arreglo de ceros de longitud 12\n",
        "2. Crear un arreglo de longitud 10 con ceros en todas sus posiciones y un 10 en la posición número 5\n",
        "3. Crear un arreglo que tenga los números del 10 al 49\n",
        "4. Crear una arreglo 2d de shape (3, 3) que tenga los números del 0 al 8\n",
        "5. Crear un arreglo de números aleatorios de longitud 100 y obtener su media y varianza\n",
        "6. Calcular la media de un arreglo usando np.sum\n",
        "7. Calcular la varianza de un arreglo usando np.sum y np.mean\n",
        "8. Crear un array de números aleatorios usando np.random.randn.\n"
      ]
    },
    {
      "cell_type": "markdown",
      "source": [],
      "metadata": {
        "id": "l6DTdNlbvXNe"
      }
    },
    {
      "cell_type": "markdown",
      "source": [
        "Importar libreria Numpy"
      ],
      "metadata": {
        "id": "RQT7_2sUvTJ6"
      }
    },
    {
      "cell_type": "code",
      "source": [
        "#Importar numpy\n",
        "import numpy as np"
      ],
      "metadata": {
        "id": "kGZxNNzDvSCe"
      },
      "execution_count": 1,
      "outputs": []
    },
    {
      "cell_type": "markdown",
      "source": [
        "1.Crear un arreglo de ceros de longitud 12"
      ],
      "metadata": {
        "id": "UztKOfyIvNgz"
      }
    },
    {
      "cell_type": "code",
      "metadata": {
        "id": "G0NMKT609IyM",
        "colab": {
          "base_uri": "https://localhost:8080/"
        },
        "outputId": "06654d4a-f291-41df-e719-3479b91dd956"
      },
      "source": [
        "arreglo1= np.zeros(12)\n",
        "print(arreglo1)"
      ],
      "execution_count": 12,
      "outputs": [
        {
          "output_type": "stream",
          "name": "stdout",
          "text": [
            "[0. 0. 0. 0. 0. 0. 0. 0. 0. 0. 0. 0.]\n"
          ]
        }
      ]
    },
    {
      "cell_type": "markdown",
      "source": [
        "2. Crear un arreglo de longitud 10 con ceros en todas sus posiciones y y un 10 en la posición número 5"
      ],
      "metadata": {
        "id": "aNIwTHHzvy1p"
      }
    },
    {
      "cell_type": "code",
      "source": [
        "arreglo2=np.zeros(10)\n",
        "arreglo2[4]=10\n",
        "print(arreglo2)"
      ],
      "metadata": {
        "colab": {
          "base_uri": "https://localhost:8080/"
        },
        "id": "D-Bs6gCKvJ3U",
        "outputId": "b10aeccc-84ed-43ee-cf66-cf2ab0043cd9"
      },
      "execution_count": 13,
      "outputs": [
        {
          "output_type": "stream",
          "name": "stdout",
          "text": [
            "[ 0.  0.  0.  0. 10.  0.  0.  0.  0.  0.]\n"
          ]
        }
      ]
    },
    {
      "cell_type": "markdown",
      "source": [
        "3. Crear un arreglo que tenga los números del 10 al 49"
      ],
      "metadata": {
        "id": "PofmvWbawEmq"
      }
    },
    {
      "cell_type": "code",
      "source": [
        "arreglo3=np.array(range(10,50))\n",
        "print(arreglo3)"
      ],
      "metadata": {
        "colab": {
          "base_uri": "https://localhost:8080/"
        },
        "id": "8GtRSorCwGCa",
        "outputId": "88116295-5455-4621-a2db-dd79ed6be83c"
      },
      "execution_count": 17,
      "outputs": [
        {
          "output_type": "stream",
          "name": "stdout",
          "text": [
            "[10 11 12 13 14 15 16 17 18 19 20 21 22 23 24 25 26 27 28 29 30 31 32 33\n",
            " 34 35 36 37 38 39 40 41 42 43 44 45 46 47 48 49]\n"
          ]
        }
      ]
    },
    {
      "cell_type": "markdown",
      "source": [
        "4. Crear una arreglo 2d de shape (3, 3) que tenga los números del 0 al 8"
      ],
      "metadata": {
        "id": "XR7Kgzj3wUFM"
      }
    },
    {
      "cell_type": "code",
      "source": [
        "arreglo4 = np.array(range(0,9)).reshape(3, 3) #con reshape digo de cuantas filas y columnas (respectivamente) quiero el arreglo\n",
        "print(arreglo4)"
      ],
      "metadata": {
        "colab": {
          "base_uri": "https://localhost:8080/"
        },
        "id": "HjP42f_JwXq0",
        "outputId": "b329d421-554d-42ca-cdfd-bca477ae7d9a"
      },
      "execution_count": 18,
      "outputs": [
        {
          "output_type": "stream",
          "name": "stdout",
          "text": [
            "[[0 1 2]\n",
            " [3 4 5]\n",
            " [6 7 8]]\n"
          ]
        }
      ]
    },
    {
      "cell_type": "markdown",
      "source": [
        "5. Crear un arreglo de números aleatorios de longitud 100 y obtener su media y varianza"
      ],
      "metadata": {
        "id": "TJmn6z4axRh2"
      }
    },
    {
      "cell_type": "code",
      "source": [
        "arreglo5= np.random.randint(0,100,100) #primer posición valor mínimo aleatorio, segunda maximo, tercera tamaño de arreglo\n",
        "print(\"Arreglo de numeros aleatorios del 1 al 100, de n=100\")\n",
        "print(arreglo5)\n",
        "\n",
        "print(\"\") #Para que no quede cada resultado pegado al anterior\n",
        "\n",
        "print(\"Tamaño del arreglo:\", arreglo5.size)\n",
        "\n",
        "print(\"\")\n",
        "\n",
        "print(\"Media\",np.mean(arreglo5))\n",
        "\n",
        "print(\"\")\n",
        "\n",
        "print(\"Varianza\", round(np.var(arreglo5),2)) #Con round selecciono los decimales, en este caso, 2"
      ],
      "metadata": {
        "colab": {
          "base_uri": "https://localhost:8080/"
        },
        "id": "j_gFbtXzxo_D",
        "outputId": "44702550-e927-4c09-e3ea-8fc621d9b365"
      },
      "execution_count": 29,
      "outputs": [
        {
          "output_type": "stream",
          "name": "stdout",
          "text": [
            "Arreglo de numeros aleatorios del 1 al 100, de n=100\n",
            "[22 96 59 81 66 44 24 40 59 71 71 71 93 89 55 81 85 87 95 25 29 65 31 69\n",
            "  1 30 26 82 80 58 45 93 57 63 52 45 41 81 34 19 32 65 92 85 64 82 25  5\n",
            " 22 39 86 92 51 71 34 27 86 87 78 77 21 65 60 45 66 64 18 85 32 12 26 63\n",
            " 85 12 86 57 68 80 90 22 64 83 91 56  3 23 74 96 51 75 63 36  6 15 87 58\n",
            " 50 23 13 36]\n",
            "\n",
            "Tamaño del arreglo: 100\n",
            "\n",
            "Media 55.75\n",
            "\n",
            "Varianza 711.57\n"
          ]
        }
      ]
    },
    {
      "cell_type": "markdown",
      "source": [
        "6.Calcular la media de un arreglo usando np.sum\n"
      ],
      "metadata": {
        "id": "B0HcCQgay-tt"
      }
    },
    {
      "cell_type": "code",
      "source": [
        "\n",
        "media=np.sum(arreglo5)/len(arreglo5)\n",
        "\n",
        "print(\"Siendo que la suma del arreglo es:\",(np.sum(arreglo5)), \"y la longitud del arreglo es:\",(len(arreglo5)))\n",
        "print(\"La media de arreglo5 usando np.sum es:\",(media))\n"
      ],
      "metadata": {
        "colab": {
          "base_uri": "https://localhost:8080/"
        },
        "id": "WTkUMzEczCWE",
        "outputId": "fe2e9cd6-089c-41a5-9d16-c6e00be5ce33"
      },
      "execution_count": 30,
      "outputs": [
        {
          "output_type": "stream",
          "name": "stdout",
          "text": [
            "Siendo que la suma del arreglo es: 5575 y la longitud del arreglo es: 100\n",
            "La media de arreglo5 usando np.sum es: 55.75\n"
          ]
        }
      ]
    },
    {
      "cell_type": "markdown",
      "source": [
        "7. Calcular la varianza de un arreglo usando np.sum y np.mean"
      ],
      "metadata": {
        "id": "01ercIOSzkWT"
      }
    },
    {
      "cell_type": "code",
      "source": [
        "print(\"Varianza con np.var de arreglo5=\",np.var(arreglo5))\n",
        "\n",
        "varianza_arreglo5=np.sum((arreglo5-np.mean(arreglo5))**2)/len(arreglo5)  #varianza es sumatoria (xi-xmedia)^2 /n (n=100)\n",
        "\n",
        "print(\"Varianza con np.sum y np.mean de arreglo5=\",varianza_arreglo5)"
      ],
      "metadata": {
        "colab": {
          "base_uri": "https://localhost:8080/"
        },
        "id": "IigVA3IYzskF",
        "outputId": "75d44371-fd08-48c6-85d5-8d62b855d4ef"
      },
      "execution_count": 31,
      "outputs": [
        {
          "output_type": "stream",
          "name": "stdout",
          "text": [
            "Varianza con np.var de arreglo5= 711.5675\n",
            "Varianza con np.sum y np.mean de arreglo5= 711.5675\n"
          ]
        }
      ]
    },
    {
      "cell_type": "markdown",
      "source": [
        "8. Crear un array de números aleatorios usando np.random.randn."
      ],
      "metadata": {
        "id": "Jjcdv5mj07LP"
      }
    },
    {
      "cell_type": "code",
      "source": [
        "arreglo8= np.random.randint(0,10,50)\n",
        "print(\"Arreglo de numeros aleatorios del 1 al 10, de n=50\")\n",
        "print(arreglo8)\n",
        "\n",
        "print(\"Tamaño del arreglo:\", arreglo8.size)"
      ],
      "metadata": {
        "colab": {
          "base_uri": "https://localhost:8080/"
        },
        "id": "6YlWPoQE1AVZ",
        "outputId": "8d362d0d-ffc5-441f-c9ea-a799452f46b9"
      },
      "execution_count": 34,
      "outputs": [
        {
          "output_type": "stream",
          "name": "stdout",
          "text": [
            "Arreglo de numeros aleatorios del 1 al 10, de n=50\n",
            "[9 6 1 6 6 1 0 3 4 3 0 6 3 0 2 0 5 7 9 3 3 9 9 3 2 2 3 8 0 5 7 8 6 4 5 5 3\n",
            " 0 0 7 6 9 7 1 0 3 2 6 0 9]\n",
            "Tamaño del arreglo: 50\n"
          ]
        }
      ]
    },
    {
      "cell_type": "code",
      "source": [],
      "metadata": {
        "id": "SdYks7qn0_Mu"
      },
      "execution_count": 9,
      "outputs": []
    }
  ]
}